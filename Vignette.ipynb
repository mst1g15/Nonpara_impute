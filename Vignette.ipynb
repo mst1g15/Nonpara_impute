{
 "cells": [
  {
   "cell_type": "markdown",
   "metadata": {},
   "source": [
    "# Vignette for Non-Parametric Imputation of Epoch-level Accelerometer Data\n",
    "## Supplementary Materials \n",
    "#### Author: Mia S. Tackney \n",
    "#### Date: 17 May 2022\n",
    "\n",
    "## Introduction \n",
    "\n",
    "This vignette introduces a suite of R functions which handle epoch-level data from the [GT3X+ accelerometer](https://actigraphcorp.com/support/activity-monitors/gt3xplus/). \n",
    "\n",
    "These accelerometers have been used in a number of clinical trials to measure participants' physical activity over the course of a week, before and after an intervention. \n",
    "\n",
    "Specifically, functions introduced in this vignette use data on Vector Magnitude (VM) and Step count measured at every epoch (usually set at 5 second intervals) for each participant, and perform the following tasks:\n",
    "    \n",
    "* Analyze common missing data patterns in epoch-level accelerometer data; \n",
    "* Visualize epoch-level accelerometer data across the measurement period (typically one week);\n",
    "* Perform non-parametric imputation of missing accelerometer data.\n",
    "\n",
    "\n",
    "<br>\n",
    "\n",
    "## Setting up and loading data \n",
    "We first install relevant R packages and source files which contain the functions. "
   ]
  },
  {
   "cell_type": "code",
   "execution_count": 3,
   "metadata": {},
   "outputs": [],
   "source": [
    "options(warn=-1)\n",
    "source(\"00_init.R\", echo=F)\n",
    "source(\"03_profile_plot_functions_week.R\")\n",
    "source(\"05_nonparametric_impute_incomp.R\")\n",
    "source(\"05_nonparametric_impute_nonself_day_functions_helper.R\")"
   ]
  },
  {
   "cell_type": "markdown",
   "metadata": {},
   "source": [
    "We load a dataset which contains simulated data based on a small portion of the PACE-UP trial epoch-level dataset. There are 95 patients in this dataset, each providing seven days' worth of data from their accelerometer. Each row of this dataset represents a 5-second epoch where vector magnitude and step count is measured by the accelerometer. This dataset contains the following variables: \n",
    "\n",
    "* Patient ID number  \n",
    "* Date  \n",
    "* Day of week  \n",
    "* Day order \n",
    "* Time at the start of the epoch   \n",
    "* Step count for the duration of the epoch  \n",
    "* Vector magnitude (VM) for the duration of the epoch  \n",
    "* Gender\n",
    "* Age\n",
    "* BMI at baseline \n",
    "\n",
    "The values for patient ID number, Gender, Age and BMI at baseline are fabricated, so these data are not identifiable. These data are extracted from GT3X+ accelerometer using the Actilife Software. Typically, a large number of other variables can be extracted such as time spent in different types of activities.  "
   ]
  },
  {
   "cell_type": "code",
   "execution_count": 16,
   "metadata": {},
   "outputs": [
    {
     "data": {
      "text/html": [
       "<table>\n",
       "<thead><tr><th scope=col>Age</th><th scope=col>Gender</th><th scope=col>Date</th><th scope=col>Day.of.Week</th><th scope=col>Day_order</th><th scope=col>Steps.Counts</th><th scope=col>Weartime_R</th><th scope=col>Time</th><th scope=col>Steps</th><th scope=col>VM</th><th scope=col>bmib</th><th scope=col>ID</th></tr></thead>\n",
       "<tbody>\n",
       "\t<tr><td>55        </td><td>F         </td><td>2014-01-23</td><td>Thursday  </td><td>1         </td><td>5950      </td><td>914.5833  </td><td>00:01:00  </td><td>0         </td><td>0         </td><td>27.49702  </td><td>52        </td></tr>\n",
       "\t<tr><td>55        </td><td>F         </td><td>2014-01-23</td><td>Thursday  </td><td>1         </td><td>5950      </td><td>914.5833  </td><td>00:01:05  </td><td>0         </td><td>0         </td><td>27.49702  </td><td>52        </td></tr>\n",
       "\t<tr><td>55        </td><td>F         </td><td>2014-01-23</td><td>Thursday  </td><td>1         </td><td>5950      </td><td>914.5833  </td><td>00:01:10  </td><td>0         </td><td>0         </td><td>27.49702  </td><td>52        </td></tr>\n",
       "\t<tr><td>55        </td><td>F         </td><td>2014-01-23</td><td>Thursday  </td><td>1         </td><td>5950      </td><td>914.5833  </td><td>00:01:15  </td><td>0         </td><td>0         </td><td>27.49702  </td><td>52        </td></tr>\n",
       "\t<tr><td>55        </td><td>F         </td><td>2014-01-23</td><td>Thursday  </td><td>1         </td><td>5950      </td><td>914.5833  </td><td>00:01:20  </td><td>0         </td><td>0         </td><td>27.49702  </td><td>52        </td></tr>\n",
       "\t<tr><td>55        </td><td>F         </td><td>2014-01-23</td><td>Thursday  </td><td>1         </td><td>5950      </td><td>914.5833  </td><td>00:01:25  </td><td>0         </td><td>0         </td><td>27.49702  </td><td>52        </td></tr>\n",
       "</tbody>\n",
       "</table>\n"
      ],
      "text/latex": [
       "\\begin{tabular}{r|llllllllllll}\n",
       " Age & Gender & Date & Day.of.Week & Day\\_order & Steps.Counts & Weartime\\_R & Time & Steps & VM & bmib & ID\\\\\n",
       "\\hline\n",
       "\t 55         & F          & 2014-01-23 & Thursday   & 1          & 5950       & 914.5833   & 00:01:00   & 0          & 0          & 27.49702   & 52        \\\\\n",
       "\t 55         & F          & 2014-01-23 & Thursday   & 1          & 5950       & 914.5833   & 00:01:05   & 0          & 0          & 27.49702   & 52        \\\\\n",
       "\t 55         & F          & 2014-01-23 & Thursday   & 1          & 5950       & 914.5833   & 00:01:10   & 0          & 0          & 27.49702   & 52        \\\\\n",
       "\t 55         & F          & 2014-01-23 & Thursday   & 1          & 5950       & 914.5833   & 00:01:15   & 0          & 0          & 27.49702   & 52        \\\\\n",
       "\t 55         & F          & 2014-01-23 & Thursday   & 1          & 5950       & 914.5833   & 00:01:20   & 0          & 0          & 27.49702   & 52        \\\\\n",
       "\t 55         & F          & 2014-01-23 & Thursday   & 1          & 5950       & 914.5833   & 00:01:25   & 0          & 0          & 27.49702   & 52        \\\\\n",
       "\\end{tabular}\n"
      ],
      "text/markdown": [
       "\n",
       "| Age | Gender | Date | Day.of.Week | Day_order | Steps.Counts | Weartime_R | Time | Steps | VM | bmib | ID |\n",
       "|---|---|---|---|---|---|---|---|---|---|---|---|\n",
       "| 55         | F          | 2014-01-23 | Thursday   | 1          | 5950       | 914.5833   | 00:01:00   | 0          | 0          | 27.49702   | 52         |\n",
       "| 55         | F          | 2014-01-23 | Thursday   | 1          | 5950       | 914.5833   | 00:01:05   | 0          | 0          | 27.49702   | 52         |\n",
       "| 55         | F          | 2014-01-23 | Thursday   | 1          | 5950       | 914.5833   | 00:01:10   | 0          | 0          | 27.49702   | 52         |\n",
       "| 55         | F          | 2014-01-23 | Thursday   | 1          | 5950       | 914.5833   | 00:01:15   | 0          | 0          | 27.49702   | 52         |\n",
       "| 55         | F          | 2014-01-23 | Thursday   | 1          | 5950       | 914.5833   | 00:01:20   | 0          | 0          | 27.49702   | 52         |\n",
       "| 55         | F          | 2014-01-23 | Thursday   | 1          | 5950       | 914.5833   | 00:01:25   | 0          | 0          | 27.49702   | 52         |\n",
       "\n"
      ],
      "text/plain": [
       "  Age Gender Date       Day.of.Week Day_order Steps.Counts Weartime_R Time    \n",
       "1 55  F      2014-01-23 Thursday    1         5950         914.5833   00:01:00\n",
       "2 55  F      2014-01-23 Thursday    1         5950         914.5833   00:01:05\n",
       "3 55  F      2014-01-23 Thursday    1         5950         914.5833   00:01:10\n",
       "4 55  F      2014-01-23 Thursday    1         5950         914.5833   00:01:15\n",
       "5 55  F      2014-01-23 Thursday    1         5950         914.5833   00:01:20\n",
       "6 55  F      2014-01-23 Thursday    1         5950         914.5833   00:01:25\n",
       "  Steps VM bmib     ID\n",
       "1 0     0  27.49702 52\n",
       "2 0     0  27.49702 52\n",
       "3 0     0  27.49702 52\n",
       "4 0     0  27.49702 52\n",
       "5 0     0  27.49702 52\n",
       "6 0     0  27.49702 52"
      ]
     },
     "metadata": {},
     "output_type": "display_data"
    }
   ],
   "source": [
    "Example <- readRDS(\"Exampledat.RDS\")\n",
    "head(Example)"
   ]
  },
  {
   "cell_type": "markdown",
   "metadata": {},
   "source": [
    "<br>\n",
    "\n",
    "\n",
    "## Analysing epoch-level data \n",
    "### Classifying Runs \n",
    "The calc_runs() classifies epoch-level data into the following possible activity categories: active, sleep, inactive, nonwear and sleep-extra, and identifies the start and end times of each activity. The output provides: \n",
    "* start: the epoch number when the activity starts\n",
    "* end: the epoch number when the activity ends \n",
    "* length: the length, in minutes, of the activity \n",
    "* type: the type of activity, which can be active, sleep, inactive, nonwear, sleep-extra\n",
    "* start_date: the date of the start of activity \n",
    "* start_time: the time of the start of activity \n",
    "* end_date: the date of the end of the activity \n",
    "* end_time: the time of the end of the activity \n",
    "\n",
    "We demonstrate for patient 52 the activites across their 7 days."
   ]
  },
  {
   "cell_type": "code",
   "execution_count": 12,
   "metadata": {},
   "outputs": [
    {
     "data": {
      "text/html": [
       "<ol>\n",
       "\t<li><table>\n",
       "<thead><tr><th scope=col>start</th><th scope=col>end</th><th scope=col>length</th><th scope=col>type</th><th scope=col>start_date</th><th scope=col>start_time</th><th scope=col>end_date</th><th scope=col>end_time</th></tr></thead>\n",
       "<tbody>\n",
       "\t<tr><td>     1    </td><td>  4796    </td><td> 399.66667</td><td>sleep     </td><td>2014-01-23</td><td>00:01:00  </td><td>2014-01-23</td><td>06:40:35  </td></tr>\n",
       "\t<tr><td>  4797    </td><td> 15759    </td><td> 913.66667</td><td>active    </td><td>2014-01-23</td><td>06:40:40  </td><td>2014-01-23</td><td>21:54:10  </td></tr>\n",
       "\t<tr><td> 15760    </td><td> 21984    </td><td> 518.75000</td><td>sleep     </td><td>2014-01-23</td><td>21:54:15  </td><td>2014-01-24</td><td>06:32:55  </td></tr>\n",
       "\t<tr><td> 21985    </td><td> 32047    </td><td> 838.66667</td><td>active    </td><td>2014-01-24</td><td>06:33:00  </td><td>2014-01-24</td><td>20:31:30  </td></tr>\n",
       "\t<tr><td> 32048    </td><td> 39603    </td><td> 629.66667</td><td>sleep     </td><td>2014-01-24</td><td>20:31:35  </td><td>2014-01-25</td><td>07:01:10  </td></tr>\n",
       "\t<tr><td> 39604    </td><td> 52579    </td><td>1081.41667</td><td>active    </td><td>2014-01-25</td><td>07:01:15  </td><td>2014-01-26</td><td>01:02:30  </td></tr>\n",
       "\t<tr><td> 52580    </td><td> 58257    </td><td> 473.16667</td><td>sleep     </td><td>2014-01-26</td><td>01:02:35  </td><td>2014-01-26</td><td>08:55:40  </td></tr>\n",
       "\t<tr><td> 58258    </td><td> 59462    </td><td> 100.50000</td><td>active    </td><td>2014-01-26</td><td>08:55:45  </td><td>2014-01-26</td><td>10:36:05  </td></tr>\n",
       "\t<tr><td> 59463    </td><td> 60581    </td><td>  93.25000</td><td>nonwear   </td><td>2014-01-26</td><td>10:36:10  </td><td>2014-01-26</td><td>12:09:20  </td></tr>\n",
       "\t<tr><td> 60582    </td><td> 67329    </td><td> 562.41667</td><td>active    </td><td>2014-01-26</td><td>12:09:25  </td><td>2014-01-26</td><td>21:31:40  </td></tr>\n",
       "\t<tr><td> 67330    </td><td> 73807    </td><td> 539.83333</td><td>sleep     </td><td>2014-01-26</td><td>21:31:45  </td><td>2014-01-27</td><td>06:31:30  </td></tr>\n",
       "\t<tr><td> 73808    </td><td> 79056    </td><td> 437.50000</td><td>active    </td><td>2014-01-27</td><td>06:31:35  </td><td>2014-01-27</td><td>13:48:55  </td></tr>\n",
       "\t<tr><td> 79057    </td><td> 80222    </td><td>  97.16667</td><td>nonwear   </td><td>2014-01-27</td><td>13:49:00  </td><td>2014-01-27</td><td>15:26:05  </td></tr>\n",
       "\t<tr><td> 80223    </td><td> 85048    </td><td> 402.25000</td><td>active    </td><td>2014-01-27</td><td>15:26:10  </td><td>2014-01-27</td><td>22:08:15  </td></tr>\n",
       "\t<tr><td> 85049    </td><td> 91000    </td><td> 496.00000</td><td>sleep     </td><td>2014-01-27</td><td>22:08:20  </td><td>2014-01-28</td><td>06:24:15  </td></tr>\n",
       "\t<tr><td> 91001    </td><td>102766    </td><td> 980.58333</td><td>active    </td><td>2014-01-28</td><td>06:24:20  </td><td>2014-01-28</td><td>22:44:45  </td></tr>\n",
       "\t<tr><td>102767    </td><td>108369    </td><td> 466.91667</td><td>sleep     </td><td>2014-01-28</td><td>22:44:50  </td><td>2014-01-29</td><td>06:31:40  </td></tr>\n",
       "\t<tr><td>108370    </td><td>113678    </td><td> 442.50000</td><td>active    </td><td>2014-01-29</td><td>06:31:45  </td><td>2014-01-29</td><td>13:54:05  </td></tr>\n",
       "\t<tr><td>113679    </td><td>115258    </td><td> 131.66667</td><td>nonwear   </td><td>2014-01-29</td><td>13:54:10  </td><td>2014-01-29</td><td>16:05:45  </td></tr>\n",
       "\t<tr><td>115259    </td><td>119209    </td><td> 329.33333</td><td>active    </td><td>2014-01-29</td><td>16:05:50  </td><td>2014-01-29</td><td>21:35:00  </td></tr>\n",
       "\t<tr><td>119210    </td><td>120948    </td><td> 144.91667</td><td>sleep     </td><td>2014-01-29</td><td>21:35:05  </td><td>2014-01-29</td><td>23:59:55  </td></tr>\n",
       "</tbody>\n",
       "</table>\n",
       "</li>\n",
       "</ol>\n"
      ],
      "text/latex": [
       "\\begin{enumerate}\n",
       "\\item \\begin{tabular}{r|llllllll}\n",
       " start & end & length & type & start\\_date & start\\_time & end\\_date & end\\_time\\\\\n",
       "\\hline\n",
       "\t      1     &   4796     &  399.66667 & sleep      & 2014-01-23 & 00:01:00   & 2014-01-23 & 06:40:35  \\\\\n",
       "\t   4797     &  15759     &  913.66667 & active     & 2014-01-23 & 06:40:40   & 2014-01-23 & 21:54:10  \\\\\n",
       "\t  15760     &  21984     &  518.75000 & sleep      & 2014-01-23 & 21:54:15   & 2014-01-24 & 06:32:55  \\\\\n",
       "\t  21985     &  32047     &  838.66667 & active     & 2014-01-24 & 06:33:00   & 2014-01-24 & 20:31:30  \\\\\n",
       "\t  32048     &  39603     &  629.66667 & sleep      & 2014-01-24 & 20:31:35   & 2014-01-25 & 07:01:10  \\\\\n",
       "\t  39604     &  52579     & 1081.41667 & active     & 2014-01-25 & 07:01:15   & 2014-01-26 & 01:02:30  \\\\\n",
       "\t  52580     &  58257     &  473.16667 & sleep      & 2014-01-26 & 01:02:35   & 2014-01-26 & 08:55:40  \\\\\n",
       "\t  58258     &  59462     &  100.50000 & active     & 2014-01-26 & 08:55:45   & 2014-01-26 & 10:36:05  \\\\\n",
       "\t  59463     &  60581     &   93.25000 & nonwear    & 2014-01-26 & 10:36:10   & 2014-01-26 & 12:09:20  \\\\\n",
       "\t  60582     &  67329     &  562.41667 & active     & 2014-01-26 & 12:09:25   & 2014-01-26 & 21:31:40  \\\\\n",
       "\t  67330     &  73807     &  539.83333 & sleep      & 2014-01-26 & 21:31:45   & 2014-01-27 & 06:31:30  \\\\\n",
       "\t  73808     &  79056     &  437.50000 & active     & 2014-01-27 & 06:31:35   & 2014-01-27 & 13:48:55  \\\\\n",
       "\t  79057     &  80222     &   97.16667 & nonwear    & 2014-01-27 & 13:49:00   & 2014-01-27 & 15:26:05  \\\\\n",
       "\t  80223     &  85048     &  402.25000 & active     & 2014-01-27 & 15:26:10   & 2014-01-27 & 22:08:15  \\\\\n",
       "\t  85049     &  91000     &  496.00000 & sleep      & 2014-01-27 & 22:08:20   & 2014-01-28 & 06:24:15  \\\\\n",
       "\t  91001     & 102766     &  980.58333 & active     & 2014-01-28 & 06:24:20   & 2014-01-28 & 22:44:45  \\\\\n",
       "\t 102767     & 108369     &  466.91667 & sleep      & 2014-01-28 & 22:44:50   & 2014-01-29 & 06:31:40  \\\\\n",
       "\t 108370     & 113678     &  442.50000 & active     & 2014-01-29 & 06:31:45   & 2014-01-29 & 13:54:05  \\\\\n",
       "\t 113679     & 115258     &  131.66667 & nonwear    & 2014-01-29 & 13:54:10   & 2014-01-29 & 16:05:45  \\\\\n",
       "\t 115259     & 119209     &  329.33333 & active     & 2014-01-29 & 16:05:50   & 2014-01-29 & 21:35:00  \\\\\n",
       "\t 119210     & 120948     &  144.91667 & sleep      & 2014-01-29 & 21:35:05   & 2014-01-29 & 23:59:55  \\\\\n",
       "\\end{tabular}\n",
       "\n",
       "\\end{enumerate}\n"
      ],
      "text/markdown": [
       "1. \n",
       "| start | end | length | type | start_date | start_time | end_date | end_time |\n",
       "|---|---|---|---|---|---|---|---|\n",
       "|      1     |   4796     |  399.66667 | sleep      | 2014-01-23 | 00:01:00   | 2014-01-23 | 06:40:35   |\n",
       "|   4797     |  15759     |  913.66667 | active     | 2014-01-23 | 06:40:40   | 2014-01-23 | 21:54:10   |\n",
       "|  15760     |  21984     |  518.75000 | sleep      | 2014-01-23 | 21:54:15   | 2014-01-24 | 06:32:55   |\n",
       "|  21985     |  32047     |  838.66667 | active     | 2014-01-24 | 06:33:00   | 2014-01-24 | 20:31:30   |\n",
       "|  32048     |  39603     |  629.66667 | sleep      | 2014-01-24 | 20:31:35   | 2014-01-25 | 07:01:10   |\n",
       "|  39604     |  52579     | 1081.41667 | active     | 2014-01-25 | 07:01:15   | 2014-01-26 | 01:02:30   |\n",
       "|  52580     |  58257     |  473.16667 | sleep      | 2014-01-26 | 01:02:35   | 2014-01-26 | 08:55:40   |\n",
       "|  58258     |  59462     |  100.50000 | active     | 2014-01-26 | 08:55:45   | 2014-01-26 | 10:36:05   |\n",
       "|  59463     |  60581     |   93.25000 | nonwear    | 2014-01-26 | 10:36:10   | 2014-01-26 | 12:09:20   |\n",
       "|  60582     |  67329     |  562.41667 | active     | 2014-01-26 | 12:09:25   | 2014-01-26 | 21:31:40   |\n",
       "|  67330     |  73807     |  539.83333 | sleep      | 2014-01-26 | 21:31:45   | 2014-01-27 | 06:31:30   |\n",
       "|  73808     |  79056     |  437.50000 | active     | 2014-01-27 | 06:31:35   | 2014-01-27 | 13:48:55   |\n",
       "|  79057     |  80222     |   97.16667 | nonwear    | 2014-01-27 | 13:49:00   | 2014-01-27 | 15:26:05   |\n",
       "|  80223     |  85048     |  402.25000 | active     | 2014-01-27 | 15:26:10   | 2014-01-27 | 22:08:15   |\n",
       "|  85049     |  91000     |  496.00000 | sleep      | 2014-01-27 | 22:08:20   | 2014-01-28 | 06:24:15   |\n",
       "|  91001     | 102766     |  980.58333 | active     | 2014-01-28 | 06:24:20   | 2014-01-28 | 22:44:45   |\n",
       "| 102767     | 108369     |  466.91667 | sleep      | 2014-01-28 | 22:44:50   | 2014-01-29 | 06:31:40   |\n",
       "| 108370     | 113678     |  442.50000 | active     | 2014-01-29 | 06:31:45   | 2014-01-29 | 13:54:05   |\n",
       "| 113679     | 115258     |  131.66667 | nonwear    | 2014-01-29 | 13:54:10   | 2014-01-29 | 16:05:45   |\n",
       "| 115259     | 119209     |  329.33333 | active     | 2014-01-29 | 16:05:50   | 2014-01-29 | 21:35:00   |\n",
       "| 119210     | 120948     |  144.91667 | sleep      | 2014-01-29 | 21:35:05   | 2014-01-29 | 23:59:55   |\n",
       "\n",
       "\n",
       "\n",
       "\n"
      ],
      "text/plain": [
       "[[1]]\n",
       "    start    end     length    type start_date start_time   end_date end_time\n",
       "1       1   4796  399.66667   sleep 2014-01-23   00:01:00 2014-01-23 06:40:35\n",
       "2    4797  15759  913.66667  active 2014-01-23   06:40:40 2014-01-23 21:54:10\n",
       "3   15760  21984  518.75000   sleep 2014-01-23   21:54:15 2014-01-24 06:32:55\n",
       "4   21985  32047  838.66667  active 2014-01-24   06:33:00 2014-01-24 20:31:30\n",
       "5   32048  39603  629.66667   sleep 2014-01-24   20:31:35 2014-01-25 07:01:10\n",
       "6   39604  52579 1081.41667  active 2014-01-25   07:01:15 2014-01-26 01:02:30\n",
       "7   52580  58257  473.16667   sleep 2014-01-26   01:02:35 2014-01-26 08:55:40\n",
       "8   58258  59462  100.50000  active 2014-01-26   08:55:45 2014-01-26 10:36:05\n",
       "9   59463  60581   93.25000 nonwear 2014-01-26   10:36:10 2014-01-26 12:09:20\n",
       "10  60582  67329  562.41667  active 2014-01-26   12:09:25 2014-01-26 21:31:40\n",
       "11  67330  73807  539.83333   sleep 2014-01-26   21:31:45 2014-01-27 06:31:30\n",
       "12  73808  79056  437.50000  active 2014-01-27   06:31:35 2014-01-27 13:48:55\n",
       "13  79057  80222   97.16667 nonwear 2014-01-27   13:49:00 2014-01-27 15:26:05\n",
       "14  80223  85048  402.25000  active 2014-01-27   15:26:10 2014-01-27 22:08:15\n",
       "15  85049  91000  496.00000   sleep 2014-01-27   22:08:20 2014-01-28 06:24:15\n",
       "16  91001 102766  980.58333  active 2014-01-28   06:24:20 2014-01-28 22:44:45\n",
       "17 102767 108369  466.91667   sleep 2014-01-28   22:44:50 2014-01-29 06:31:40\n",
       "18 108370 113678  442.50000  active 2014-01-29   06:31:45 2014-01-29 13:54:05\n",
       "19 113679 115258  131.66667 nonwear 2014-01-29   13:54:10 2014-01-29 16:05:45\n",
       "20 115259 119209  329.33333  active 2014-01-29   16:05:50 2014-01-29 21:35:00\n",
       "21 119210 120948  144.91667   sleep 2014-01-29   21:35:05 2014-01-29 23:59:55\n"
      ]
     },
     "metadata": {},
     "output_type": "display_data"
    }
   ],
   "source": [
    "calc_runs(Example %>% filter(ID==\"52\"))"
   ]
  },
  {
   "cell_type": "markdown",
   "metadata": {},
   "source": [
    "<br>\n",
    "\n",
    "### Calculating Weartime \n",
    "\n",
    "The calc_weartime() function calculates the weartime for a specific day. The VM of the day is needed as input. For example, for Patient 52, on their first day using the accelerometer (a Thursday), their weartime is calculated as: "
   ]
  },
  {
   "cell_type": "code",
   "execution_count": 13,
   "metadata": {},
   "outputs": [
    {
     "data": {
      "text/html": [
       "914.583333333333"
      ],
      "text/latex": [
       "914.583333333333"
      ],
      "text/markdown": [
       "914.583333333333"
      ],
      "text/plain": [
       "[1] 914.5833"
      ]
     },
     "metadata": {},
     "output_type": "display_data"
    }
   ],
   "source": [
    "P52_Thurs <- Example %>% filter(ID==52 & Day.of.Week==\"Thursday\")\n",
    "calc_weartime(P52_Thurs$VM)"
   ]
  },
  {
   "cell_type": "markdown",
   "metadata": {},
   "source": [
    "We compute weartime for each patient, for each day of wear, and add it as an additional variable in the dataset. "
   ]
  },
  {
   "cell_type": "code",
   "execution_count": 19,
   "metadata": {},
   "outputs": [
    {
     "data": {
      "text/html": [
       "<table>\n",
       "<thead><tr><th scope=col>ID</th><th scope=col>Date</th><th scope=col>Weartime_R</th></tr></thead>\n",
       "<tbody>\n",
       "\t<tr><td>1         </td><td>2014-06-07</td><td>722.1667  </td></tr>\n",
       "\t<tr><td>1         </td><td>2014-06-08</td><td>891.8333  </td></tr>\n",
       "\t<tr><td>1         </td><td>2014-06-09</td><td>756.4167  </td></tr>\n",
       "\t<tr><td>1         </td><td>2014-06-10</td><td>763.3333  </td></tr>\n",
       "\t<tr><td>1         </td><td>2014-06-11</td><td>803.5000  </td></tr>\n",
       "\t<tr><td>1         </td><td>2014-06-12</td><td>775.0833  </td></tr>\n",
       "</tbody>\n",
       "</table>\n"
      ],
      "text/latex": [
       "\\begin{tabular}{r|lll}\n",
       " ID & Date & Weartime\\_R\\\\\n",
       "\\hline\n",
       "\t 1          & 2014-06-07 & 722.1667  \\\\\n",
       "\t 1          & 2014-06-08 & 891.8333  \\\\\n",
       "\t 1          & 2014-06-09 & 756.4167  \\\\\n",
       "\t 1          & 2014-06-10 & 763.3333  \\\\\n",
       "\t 1          & 2014-06-11 & 803.5000  \\\\\n",
       "\t 1          & 2014-06-12 & 775.0833  \\\\\n",
       "\\end{tabular}\n"
      ],
      "text/markdown": [
       "\n",
       "| ID | Date | Weartime_R |\n",
       "|---|---|---|\n",
       "| 1          | 2014-06-07 | 722.1667   |\n",
       "| 1          | 2014-06-08 | 891.8333   |\n",
       "| 1          | 2014-06-09 | 756.4167   |\n",
       "| 1          | 2014-06-10 | 763.3333   |\n",
       "| 1          | 2014-06-11 | 803.5000   |\n",
       "| 1          | 2014-06-12 | 775.0833   |\n",
       "\n"
      ],
      "text/plain": [
       "  ID Date       Weartime_R\n",
       "1 1  2014-06-07 722.1667  \n",
       "2 1  2014-06-08 891.8333  \n",
       "3 1  2014-06-09 756.4167  \n",
       "4 1  2014-06-10 763.3333  \n",
       "5 1  2014-06-11 803.5000  \n",
       "6 1  2014-06-12 775.0833  "
      ]
     },
     "metadata": {},
     "output_type": "display_data"
    }
   ],
   "source": [
    "Weartime <- Example %>% group_by(ID, Date) %>% summarise(Weartime_R=calc_weartime(VM))\n",
    "head(Weartime)\n",
    "Example <- left_join(Example, Weartime, by=c(\"ID\", \"Date\"))"
   ]
  },
  {
   "cell_type": "markdown",
   "metadata": {},
   "source": [
    "<br>\n",
    "\n",
    "## Visualizing Epoch-level Data \n",
    "\n",
    "The plot_week() function takes Epoch-level data for a particular patient and plots the Vector Magnitude across each day, and indicates the different activities throughout the day."
   ]
  },
  {
   "cell_type": "code",
   "execution_count": 17,
   "metadata": {},
   "outputs": [
    {
     "data": {
      "image/png": "[encoded data removed]",
      "text/plain": [
       "plot without title"
      ]
     },
     "metadata": {},
     "output_type": "display_data"
    }
   ],
   "source": [
    "options(repr.plot.width=5, repr.plot.height=6)\n",
    "Person1 <- Example %>% filter(ID==\"34\")\n",
    "Person2 <- Example %>% filter(ID==\"52\")\n",
    "p1 <- plot_week(Person1)\n",
    "p1"
   ]
  },
  {
   "cell_type": "code",
   "execution_count": 18,
   "metadata": {},
   "outputs": [
    {
     "data": {
      "image/png": "[encoded data removed]",
      "text/plain": [
       "plot without title"
      ]
     },
     "metadata": {},
     "output_type": "display_data"
    }
   ],
   "source": [
    "p2 <- plot_week(Person2)\n",
    "p2"
   ]
  },
  {
   "cell_type": "markdown",
   "metadata": {},
   "source": [
    "# Non-parametric imputation \n",
    "\n",
    "The impute_and_analyse() function carries out non-parametric imputation. In summary, this function carries out the following tasks: \n",
    "* Identifies missing periods in the dataset, including nonwear, sleep-extra and whole weeks which need to be imputed. \n",
    "* Peforms multiple imputation either using self or non-self donation. By default, if there are less than four donors in the donor pool, non-self donation is carried out. \n",
    "* Exports the following files:   \n",
    "> 1. a file with $M$ copies of the dataset with the total step counts per week for each patient ID. Where there is missingness during the week the $M$ values are different. If there is no missingness, the $M$ values are the same. \n",
    "> 2. a file with generic and specific upper bounds for daily step counts for each patient ID, which could be used in STATA to do Tobit regression. \n",
    "> 3. a file with missingness patterns saved for each patient ID, which can be used for further analyses. \n",
    "* Analyses the data by calculating the mean and standard error of the week-average step counts when non-parametric imputation is used, and when missingness is ignored (available case analysis). \n",
    "\n",
    "\n",
    "Inputs for this function is as follows:\n",
    "* **Simdata**: dataset containing epoch-level data. \n",
    "* **sim**: integer for simulation number. Set to 1 by default. \n",
    "* **M**: integer greater than 1 for the number of imputations.\n",
    "* **passive**: function used to transform daily step counts due to skewness. Default is log transformation.\n",
    "* **path**: path to save upperbounds, which can be used to do parametric imputation in STATA. \n",
    "* **imptuations_save_path**: path to save all imputations for all M. This can be used to analyse data using more complex models. \n",
    "* **missing_save_path**: path to save missingness classification. \n",
    "* **missing_save_path**: path to save results for complete case analysis if complete case analysis is performed.\n",
    "* **adj_base**: set to NULL if average baseline step count is NOT used as a matching variable (default). set to TRUE if used as a matching variables. \n",
    "* **output**: by default set to TRUE if all output is to be shown. Otherwise set to FALSE."
   ]
  },
  {
   "cell_type": "code",
   "execution_count": 21,
   "metadata": {},
   "outputs": [
    {
     "data": {
      "text/html": [
       "<table>\n",
       "<thead><tr><th scope=col>sim</th><th scope=col>Method</th><th scope=col>mean</th><th scope=col>se</th></tr></thead>\n",
       "<tbody>\n",
       "\t<tr><td>1            </td><td>Ignore       </td><td>6697.374     </td><td>396.4339     </td></tr>\n",
       "\t<tr><td>1            </td><td>Complete Case</td><td>      NA     </td><td>      NA     </td></tr>\n",
       "\t<tr><td>1            </td><td>Non-para     </td><td>6978.915     </td><td>372.0837     </td></tr>\n",
       "</tbody>\n",
       "</table>\n"
      ],
      "text/latex": [
       "\\begin{tabular}{r|llll}\n",
       " sim & Method & mean & se\\\\\n",
       "\\hline\n",
       "\t 1             & Ignore        & 6697.374      & 396.4339     \\\\\n",
       "\t 1             & Complete Case &       NA      &       NA     \\\\\n",
       "\t 1             & Non-para      & 6978.915      & 372.0837     \\\\\n",
       "\\end{tabular}\n"
      ],
      "text/markdown": [
       "\n",
       "| sim | Method | mean | se |\n",
       "|---|---|---|---|\n",
       "| 1             | Ignore        | 6697.374      | 396.4339      |\n",
       "| 1             | Complete Case |       NA      |       NA      |\n",
       "| 1             | Non-para      | 6978.915      | 372.0837      |\n",
       "\n"
      ],
      "text/plain": [
       "  sim Method        mean     se      \n",
       "1 1   Ignore        6697.374 396.4339\n",
       "2 1   Complete Case       NA       NA\n",
       "3 1   Non-para      6978.915 372.0837"
      ]
     },
     "metadata": {},
     "output_type": "display_data"
    }
   ],
   "source": [
    "result <- impute_and_analyse(Simdata=Example, sim=1, M=10, passive=log, \n",
    "                   path=NULL, imputations_save_path=NULL, missing_save_path=NULL,  cc_save_path=NULL,\n",
    "                               adj_base=NULL, output=FALSE)\n",
    "result"
   ]
  },
  {
   "cell_type": "code",
   "execution_count": null,
   "metadata": {},
   "outputs": [],
   "source": []
  }
 ],
 "metadata": {
  "kernelspec": {
   "display_name": "R",
   "language": "R",
   "name": "ir"
  },
  "language_info": {
   "codemirror_mode": "r",
   "file_extension": ".r",
   "mimetype": "text/x-r-source",
   "name": "R",
   "pygments_lexer": "r",
   "version": "3.6.1"
  }
 },
 "nbformat": 4,
 "nbformat_minor": 4
}
